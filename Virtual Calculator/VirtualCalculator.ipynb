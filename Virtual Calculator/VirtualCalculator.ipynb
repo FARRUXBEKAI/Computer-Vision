{
 "cells": [
  {
   "cell_type": "markdown",
   "id": "f3246bab-f857-48e9-afa1-a3f6b86da547",
   "metadata": {},
   "source": [
    "# 01/12/2022\n",
    "\n",
    "# Computer Vision\n",
    "\n",
    "# Virtual Calculator\n",
    "\n",
    "# Muallif: Farrux Sotivoldiyev"
   ]
  },
  {
   "cell_type": "code",
   "execution_count": 3,
   "id": "fbf98160-5b01-4f20-bfec-d55daf8d0f5e",
   "metadata": {},
   "outputs": [
    {
     "name": "stdout",
     "output_type": "stream",
     "text": [
      "Collecting cvzone\n",
      "  Downloading cvzone-1.5.6.tar.gz (12 kB)\n",
      "  Preparing metadata (setup.py): started\n",
      "  Preparing metadata (setup.py): finished with status 'done'\n",
      "Requirement already satisfied: opencv-python in c:\\users\\farru\\deeplearning\\lib\\site-packages (from cvzone) (4.6.0.66)\n",
      "Requirement already satisfied: numpy in c:\\users\\farru\\deeplearning\\lib\\site-packages (from cvzone) (1.23.4)\n",
      "Building wheels for collected packages: cvzone\n",
      "  Building wheel for cvzone (setup.py): started\n",
      "  Building wheel for cvzone (setup.py): finished with status 'done'\n",
      "  Created wheel for cvzone: filename=cvzone-1.5.6-py3-none-any.whl size=18782 sha256=d331e4aaf5842cfa4d799edf1155aac8136ef6fb1607584f9775952a13f81c8b\n",
      "  Stored in directory: c:\\users\\farru\\appdata\\local\\pip\\cache\\wheels\\4e\\f0\\d3\\13782d9412d7282b88ade715c0f82b78de35f6e9bbc6d12fa3\n",
      "Successfully built cvzone\n",
      "Installing collected packages: cvzone\n",
      "Successfully installed cvzone-1.5.6\n"
     ]
    }
   ],
   "source": [
    "!pip install cvzone"
   ]
  },
  {
   "cell_type": "code",
   "execution_count": 1,
   "id": "bb44f959-a25a-42fe-8d02-78700ab35cfe",
   "metadata": {},
   "outputs": [
    {
     "name": "stdout",
     "output_type": "stream",
     "text": [
      "Collecting mediapipe\n",
      "  Using cached mediapipe-0.9.0-cp39-cp39-win_amd64.whl (49.8 MB)\n",
      "Requirement already satisfied: numpy in c:\\users\\farru\\deeplearning\\lib\\site-packages (from mediapipe) (1.23.4)\n",
      "Requirement already satisfied: attrs>=19.1.0 in c:\\users\\farru\\deeplearning\\lib\\site-packages (from mediapipe) (22.1.0)\n",
      "Collecting opencv-contrib-python\n",
      "  Using cached opencv_contrib_python-4.6.0.66-cp36-abi3-win_amd64.whl (42.5 MB)\n",
      "Requirement already satisfied: matplotlib in c:\\users\\farru\\deeplearning\\lib\\site-packages (from mediapipe) (3.6.2)\n",
      "Requirement already satisfied: absl-py in c:\\users\\farru\\deeplearning\\lib\\site-packages (from mediapipe) (1.3.0)\n",
      "Requirement already satisfied: flatbuffers>=2.0 in c:\\users\\farru\\deeplearning\\lib\\site-packages (from mediapipe) (22.10.26)\n",
      "Requirement already satisfied: protobuf<4,>=3.11 in c:\\users\\farru\\deeplearning\\lib\\site-packages (from mediapipe) (3.19.6)\n",
      "Requirement already satisfied: contourpy>=1.0.1 in c:\\users\\farru\\deeplearning\\lib\\site-packages (from matplotlib->mediapipe) (1.0.6)\n",
      "Requirement already satisfied: pillow>=6.2.0 in c:\\users\\farru\\deeplearning\\lib\\site-packages (from matplotlib->mediapipe) (9.3.0)\n",
      "Requirement already satisfied: python-dateutil>=2.7 in c:\\users\\farru\\deeplearning\\lib\\site-packages (from matplotlib->mediapipe) (2.8.2)\n",
      "Requirement already satisfied: packaging>=20.0 in c:\\users\\farru\\deeplearning\\lib\\site-packages (from matplotlib->mediapipe) (21.3)\n",
      "Requirement already satisfied: pyparsing>=2.2.1 in c:\\users\\farru\\deeplearning\\lib\\site-packages (from matplotlib->mediapipe) (3.0.9)\n",
      "Requirement already satisfied: cycler>=0.10 in c:\\users\\farru\\deeplearning\\lib\\site-packages (from matplotlib->mediapipe) (0.11.0)\n",
      "Requirement already satisfied: fonttools>=4.22.0 in c:\\users\\farru\\deeplearning\\lib\\site-packages (from matplotlib->mediapipe) (4.38.0)\n",
      "Requirement already satisfied: kiwisolver>=1.0.1 in c:\\users\\farru\\deeplearning\\lib\\site-packages (from matplotlib->mediapipe) (1.4.4)\n",
      "Requirement already satisfied: six>=1.5 in c:\\users\\farru\\deeplearning\\lib\\site-packages (from python-dateutil>=2.7->matplotlib->mediapipe) (1.16.0)\n",
      "Installing collected packages: opencv-contrib-python, mediapipe\n",
      "Successfully installed mediapipe-0.9.0 opencv-contrib-python-4.6.0.66\n"
     ]
    }
   ],
   "source": [
    "!pip install mediapipe"
   ]
  },
  {
   "cell_type": "code",
   "execution_count": 1,
   "id": "f58d0aa8-b2be-4ae4-945e-937f5e84d469",
   "metadata": {},
   "outputs": [],
   "source": [
    "import cv2\n",
    "from cvzone.HandTrackingModule import HandDetector"
   ]
  },
  {
   "cell_type": "code",
   "execution_count": 2,
   "id": "bdb3c0d4-d4ae-46e9-a8aa-d0386a31aeb0",
   "metadata": {},
   "outputs": [],
   "source": [
    "class Button:\n",
    "    def __init__(self,pos,width,height,value):\n",
    "        self.pos = pos\n",
    "        self.width = width\n",
    "        self.height = height\n",
    "        self.value = value\n",
    "        \n",
    "    def draw(self,img):\n",
    "        cv2.rectangle(img,self.pos,(self.pos[0]+self.width,self.pos[1]+self.height),(255,255,255),cv2.FILLED)\n",
    "        cv2.rectangle(img,self.pos,(self.pos[0]+self.width,self.pos[1]+self.height),(50,50,50),3)\n",
    "        cv2.putText(img,self.value,(self.pos[0]+40,self.pos[1]+60),cv2.FONT_HERSHEY_PLAIN,2,(50,50,50),2)\n",
    "        \n",
    "    def checkClick(self,x,y):\n",
    "        if self.pos[0]<x<self.pos[0]+self.width and self.pos[1]<y<self.pos[1]+self.height:\n",
    "            cv2.rectangle(img,self.pos,(self.pos[0]+self.width,self.pos[1]+self.height),(255,255,255),cv2.FILLED)\n",
    "            cv2.rectangle(img,self.pos,(self.pos[0]+self.width,self.pos[1]+self.height),(50,50,50),3)\n",
    "            cv2.putText(img,self.value,(self.pos[0]+20,self.pos[1]+70),cv2.FONT_HERSHEY_PLAIN,5,(0,0,0),5)\n",
    "            return True\n",
    "        else:\n",
    "            return False\n",
    "            "
   ]
  },
  {
   "cell_type": "code",
   "execution_count": null,
   "id": "61c6524e-8e71-459e-a86b-1a5bad05f5b4",
   "metadata": {},
   "outputs": [],
   "source": [
    "# Webcamera\n",
    "video = cv2.VideoCapture(0)\n",
    "video.set(3,1080) # with\n",
    "video.set(4,720) # heigh\n",
    "detector = HandDetector(detectionCon=0.8,maxHands=1)\n",
    "\n",
    "\n",
    "\n",
    "# Button yaratish\n",
    "buttonListValue = [['7','8','9','*'],\n",
    "                   ['4','5','6','-'],\n",
    "                   ['1','2','3','+'],\n",
    "                   ['0','/','.','=']]\n",
    "buttonList = []\n",
    "for x in range(4):\n",
    "    for y in range(4):\n",
    "        xpos = x*100 + 800\n",
    "        ypos = y*100 + 150\n",
    "        buttonList.append(Button((xpos,ypos ),100,100,buttonListValue[y][x]))\n",
    "\n",
    "        \n",
    "        \n",
    "#o'zgrauvchilar\n",
    "myEquation = ''\n",
    "delayCounter = 0\n",
    "\n",
    "\n",
    "# Tsikl\n",
    "while True:\n",
    "    kadr,img = video.read()\n",
    "    img = cv2.flip(img,1)\n",
    "    \n",
    "    # Qo'lni aniqlash\n",
    "    hands, img = detector.findHands(img,flipType=False)\n",
    "    \n",
    "    \n",
    "    # Barcha tugmalarni chizish\n",
    "    cv2.rectangle(img,(800,50),(800+400,70+100),(255,255,255),cv2.FILLED)\n",
    "    cv2.rectangle(img,(800,50),(800+400,70+100),(50,50,50),3)\n",
    "    \n",
    "        \n",
    "    for button in buttonList:\n",
    "        button.draw(img)\n",
    "        \n",
    "    # Qo'lni tekshiring\n",
    "    if hands:\n",
    "        lmList = hands[0]['lmList']\n",
    "        length, info, img = detector.findDistance(lmList[8][0:2], lmList[12][0:2], img)\n",
    "        x,y = lmList[8][0:2]\n",
    "        if length<50:\n",
    "            for i,button in enumerate(buttonList):\n",
    "                if button.checkClick(x,y) and delayCounter==0:\n",
    "                    myValue = buttonListValue[int(i%4)][int(i/4)]\n",
    "                    if myValue == \"=\":\n",
    "                        myEquation = str(eval(myEquation))\n",
    "                    else:\n",
    "                        myEquation += myValue\n",
    "                    delayCounter = 1\n",
    "                             \n",
    "    # Takrorlashdan saqlanish\n",
    "    if delayCounter != 0:\n",
    "        delayCounter += 1 \n",
    "        if delayCounter>10:\n",
    "            delayCounter = 0\n",
    "\n",
    "    # Natijani ko'rsatish\n",
    "    cv2.putText(img,myEquation,(810,120),cv2.FONT_HERSHEY_PLAIN,3,(50,50,50),3)    \n",
    "     \n",
    "    \n",
    "   # tasvir ko'rinishi\n",
    "    cv2.imshow(\"Virtual Kankulyator by Farruxbek\", img)\n",
    "    key = cv2.waitKey(1)\n",
    "    if key==ord(\"c\"):\n",
    "        myEquation = \"\" "
   ]
  },
  {
   "cell_type": "code",
   "execution_count": null,
   "id": "a5d0777f-0d13-492f-bda8-a40605d3e73d",
   "metadata": {},
   "outputs": [],
   "source": []
  },
  {
   "cell_type": "code",
   "execution_count": null,
   "id": "d8c2ef76-12c3-42cc-bd10-3a2bb7d4749b",
   "metadata": {},
   "outputs": [],
   "source": []
  },
  {
   "cell_type": "code",
   "execution_count": null,
   "id": "6d6e6360-a16f-4f1f-b56c-9c5caa847940",
   "metadata": {},
   "outputs": [],
   "source": []
  }
 ],
 "metadata": {
  "kernelspec": {
   "display_name": "deeplearning",
   "language": "python",
   "name": "deeplearning"
  },
  "language_info": {
   "codemirror_mode": {
    "name": "ipython",
    "version": 3
   },
   "file_extension": ".py",
   "mimetype": "text/x-python",
   "name": "python",
   "nbconvert_exporter": "python",
   "pygments_lexer": "ipython3",
   "version": "3.9.8"
  }
 },
 "nbformat": 4,
 "nbformat_minor": 5
}
