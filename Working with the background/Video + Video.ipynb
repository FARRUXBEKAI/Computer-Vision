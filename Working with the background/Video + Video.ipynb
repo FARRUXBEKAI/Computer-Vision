{
 "cells": [
  {
   "cell_type": "markdown",
   "id": "9a7e867d",
   "metadata": {},
   "source": [
    "# 30/08/2022\n",
    "\n",
    "# Computer vision\n",
    "\n",
    "# Video + Video\n",
    "\n",
    "# Muallif: Farrux Sotivoldiyev"
   ]
  },
  {
   "cell_type": "code",
   "execution_count": 1,
   "id": "9caec342",
   "metadata": {},
   "outputs": [],
   "source": [
    "import numpy as np\n",
    "import cv2\n",
    "import matplotlib.pyplot as plt"
   ]
  },
  {
   "cell_type": "markdown",
   "id": "d0af56f6",
   "metadata": {},
   "source": [
    "**`Yo'lbars o'rmonda`**"
   ]
  },
  {
   "cell_type": "code",
   "execution_count": 4,
   "id": "d3b84239",
   "metadata": {},
   "outputs": [],
   "source": [
    "video1 = cv2.VideoCapture(\"VIDEOLAR/Forest_11minutlik_1.mp4\")\n",
    "video2 = cv2.VideoCapture(\"VIDEOLAR/tiger 11 sekundlik_1.mp4\")\n",
    "range_1 = np.array([0,100,0])\n",
    "range_2 = np.array([100,250,100])\n",
    "\n",
    "while video1.isOpened() and video2.isOpened():\n",
    "    i,kadr1 = video1.read()\n",
    "    j,kadr2 = video2.read()\n",
    "    if not i or not j:\n",
    "        break\n",
    "    kadr2 = cv2.resize(kadr2,(kadr1.shape[1],kadr1.shape[0]))\n",
    "    maska = cv2.inRange(kadr2,range_1,range_2)\n",
    "    kadr1[maska==0] = 0\n",
    "    kadr2[maska!=0] = 0\n",
    "    kadr2 += kadr1\n",
    "    cv2.imshow(\"O'rmon\",kadr2)\n",
    "    \n",
    "    if cv2.waitKey(40) & 0xFF==ord(\"q\"):\n",
    "        break\n",
    "video1.release()  \n",
    "video2.release() \n",
    "cv2.destroyAllWindows()"
   ]
  }
 ],
 "metadata": {
  "kernelspec": {
   "display_name": "Python 3 (ipykernel)",
   "language": "python",
   "name": "python3"
  },
  "language_info": {
   "codemirror_mode": {
    "name": "ipython",
    "version": 3
   },
   "file_extension": ".py",
   "mimetype": "text/x-python",
   "name": "python",
   "nbconvert_exporter": "python",
   "pygments_lexer": "ipython3",
   "version": "3.9.8"
  }
 },
 "nbformat": 4,
 "nbformat_minor": 5
}
