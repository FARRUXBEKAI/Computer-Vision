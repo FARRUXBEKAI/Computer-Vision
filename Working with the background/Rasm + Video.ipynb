{
 "cells": [
  {
   "cell_type": "markdown",
   "id": "401ddfa2",
   "metadata": {},
   "source": [
    "# 30/08/2022\n",
    "\n",
    "# Computer vision\n",
    "\n",
    "# Rasm + Video\n",
    "\n",
    "# Muallif: Farrux Sotivoldiyev"
   ]
  },
  {
   "cell_type": "code",
   "execution_count": 2,
   "id": "68058734",
   "metadata": {},
   "outputs": [],
   "source": [
    "import numpy as np\n",
    "import cv2\n",
    "import matplotlib.pyplot as plt"
   ]
  },
  {
   "cell_type": "markdown",
   "id": "821c87e2",
   "metadata": {},
   "source": [
    "**`O'rmon rasmiga sherning harakatini qo'ydim`**"
   ]
  },
  {
   "cell_type": "code",
   "execution_count": 8,
   "id": "053e65a9",
   "metadata": {},
   "outputs": [],
   "source": [
    "video = cv2.VideoCapture(\"VIDEOLAR/tiger.mp4\")\n",
    "rasm = cv2.imread(\"RASMLAR/ormon.jpg\")\n",
    "rasm = cv2.resize(rasm,(1280,720))\n",
    "range_1 = np.array([0,100,0])\n",
    "range_2 = np.array([100,255,100])\n",
    "\n",
    "while video.isOpened():\n",
    "    i,kadr = video.read()\n",
    "    \n",
    "    if not i:\n",
    "        break\n",
    "        \n",
    "    rasm_copy = rasm.copy()\n",
    "    maska = cv2.inRange(kadr,range_1,range_2)\n",
    "    kadr[maska!=0] = [0,0,0]\n",
    "    rasm_copy[maska==0] = [0,0,0]\n",
    "    \n",
    "    kadr += rasm_copy\n",
    "    cv2.imshow(\"O'rmondagi yo'lbars\",kadr)\n",
    "    \n",
    "    if cv2.waitKey(1) & 0xFF==ord(\"q\"):\n",
    "        break\n",
    "        \n",
    "video.release()\n",
    "cv2.destroyAllWindows()"
   ]
  },
  {
   "cell_type": "markdown",
   "id": "6a73d356",
   "metadata": {},
   "source": [
    "**`Xona rasmiga qizchaning videosini qo'ydim`**"
   ]
  },
  {
   "cell_type": "code",
   "execution_count": 7,
   "id": "71998353",
   "metadata": {},
   "outputs": [],
   "source": [
    "video = cv2.VideoCapture(\"VIDEOLAR/qizcha(gif).mp4\")\n",
    "rasm = cv2.imread(\"RASMLAR/Mehmonxona1.jpg\")\n",
    "rasm = cv2.resize(rasm,(640,480))\n",
    "\n",
    "range_1 = np.array([0,160,0])\n",
    "range_2 = np.array([150,255,150])\n",
    "\n",
    "while video.isOpened():\n",
    "    i,kadr = video.read()\n",
    "    \n",
    "    if not i:\n",
    "        break\n",
    "    kadr = cv2.resize(kadr,(640,480))\n",
    "    rasm_copy = rasm.copy()\n",
    "    maska = cv2.inRange(kadr,range_1,range_2)\n",
    "    rasm_copy[maska==0] = 0\n",
    "    kadr[maska!=0] = 0\n",
    "    \n",
    "    kadr += rasm_copy \n",
    "    cv2.imshow(\"Qizcha\",kadr)\n",
    "    \n",
    "    if cv2.waitKey(40) & 0xFF==ord(\"q\"):\n",
    "        break\n",
    "    \n",
    "video.release()\n",
    "cv2.destroyAllWindows()"
   ]
  }
 ],
 "metadata": {
  "kernelspec": {
   "display_name": "Python 3 (ipykernel)",
   "language": "python",
   "name": "python3"
  },
  "language_info": {
   "codemirror_mode": {
    "name": "ipython",
    "version": 3
   },
   "file_extension": ".py",
   "mimetype": "text/x-python",
   "name": "python",
   "nbconvert_exporter": "python",
   "pygments_lexer": "ipython3",
   "version": "3.9.8"
  }
 },
 "nbformat": 4,
 "nbformat_minor": 5
}
