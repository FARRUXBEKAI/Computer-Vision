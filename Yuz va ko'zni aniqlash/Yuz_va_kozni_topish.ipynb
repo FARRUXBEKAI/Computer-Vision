{
 "cells": [
  {
   "cell_type": "markdown",
   "id": "6e000f0f-8526-4452-98b4-2b51159276c6",
   "metadata": {},
   "source": [
    "# 02/12/2022\n",
    "\n",
    "# Computer Vision\n",
    "\n",
    "# Yuz_va_kozni_topish(haarcascade modellaridan foydalanib)\n",
    "\n",
    "# Muallif: Farrux Sotivoldiyev"
   ]
  },
  {
   "cell_type": "code",
   "execution_count": 1,
   "id": "f7d2cbd2-f3eb-4ead-a8cf-b496486ed0cc",
   "metadata": {},
   "outputs": [],
   "source": [
    "import cv2\n",
    "import numpy as np\n",
    "import matplotlib.pyplot as plt"
   ]
  },
  {
   "cell_type": "code",
   "execution_count": 7,
   "id": "976cd930-d3b0-4c0b-be05-2d1da16bc281",
   "metadata": {},
   "outputs": [],
   "source": [
    "face = cv2.CascadeClassifier(\"C:/Users/farru/ai/MODELLAR/haarcascades/haarcascade_frontalface_alt.xml\")\n",
    "eye = cv2.CascadeClassifier(\"C:/Users/farru/ai/MODELLAR/haarcascades/haarcascade_eye_tree_eyeglasses.xml\")\n",
    "\n",
    "video = cv2.VideoCapture(0)\n",
    "\n",
    "while video.isOpened():\n",
    "    i,kadr = video.read()\n",
    "    \n",
    "    if not i:\n",
    "        break\n",
    "        \n",
    "    koz = eye.detectMultiScale(kadr,minSize=(0,0),maxSize=(50,50))\n",
    "    yuz = face.detectMultiScale(kadr,minSize=(100,100),maxSize=(500,500))\n",
    "    yuz_copy = kadr.copy()\n",
    "    \n",
    "    for x,y,w,h in koz:\n",
    "        cv2.rectangle(yuz_copy,(x,y),(x+w,y+h),(255,0,0),3)\n",
    "        \n",
    "    for x,y,w,h in yuz:\n",
    "        cv2.rectangle(yuz_copy,(x,y),(x+w,y+h),(255,0,0),3)\n",
    "        \n",
    "    cv2.imshow(\"Farruxbek\",yuz_copy)\n",
    "        \n",
    "    if cv2.waitKey(40) & 0XFF==ord(\"q\"):\n",
    "        break\n",
    "    \n",
    "video.release()\n",
    "cv2.destroyAllWindows()"
   ]
  },
  {
   "cell_type": "code",
   "execution_count": null,
   "id": "46583dab-9ab7-44eb-8254-7f2276bcc691",
   "metadata": {},
   "outputs": [],
   "source": []
  }
 ],
 "metadata": {
  "kernelspec": {
   "display_name": "deeplearning",
   "language": "python",
   "name": "deeplearning"
  },
  "language_info": {
   "codemirror_mode": {
    "name": "ipython",
    "version": 3
   },
   "file_extension": ".py",
   "mimetype": "text/x-python",
   "name": "python",
   "nbconvert_exporter": "python",
   "pygments_lexer": "ipython3",
   "version": "3.9.8"
  }
 },
 "nbformat": 4,
 "nbformat_minor": 5
}
