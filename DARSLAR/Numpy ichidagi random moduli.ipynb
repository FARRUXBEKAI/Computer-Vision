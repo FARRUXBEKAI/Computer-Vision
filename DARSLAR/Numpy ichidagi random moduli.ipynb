{
 "cells": [
  {
   "cell_type": "markdown",
   "id": "605686dd",
   "metadata": {},
   "source": [
    "# 9/09/2022\n",
    "\n",
    "# Computer vision\n",
    "# Random moduli\n",
    "\n",
    "# Muallif: Farrux Sotivoldiyev"
   ]
  },
  {
   "cell_type": "markdown",
   "id": "12004e2b",
   "metadata": {},
   "source": [
    "# Numpy ichidagi random moduli\n",
    "* np.random.seed(x) - x ga biror bir son bersak np.random.random ni shu songa bog'lab qo'yadi va bir xil son qaytaraveradi\n",
    "* np.random.random() - son yozsak o'shancha istalgan sonni bitta list qilib qaytaradi. Ichiga shape ham yozsak bo'ladi\n",
    "* np.random.random_sample() -son yozsak o'shancha istalgan sonni bitta list qilib qaytaradi. Ichiga shape ham yozsa bo'ladi\n",
    "* np.random.choice() - ixtiyoriy elementni tanlab olish uchun ishlatiladi\n",
    "* np.random.shuffle() - listning ichini chalkashtirib tashlaydi"
   ]
  },
  {
   "cell_type": "code",
   "execution_count": 207,
   "id": "4fe316c6",
   "metadata": {},
   "outputs": [],
   "source": [
    "import numpy as np"
   ]
  },
  {
   "cell_type": "markdown",
   "id": "d3f32a0d",
   "metadata": {},
   "source": [
    "**`np.random.seed and np.random.random`**"
   ]
  },
  {
   "cell_type": "code",
   "execution_count": 55,
   "id": "d200d22a",
   "metadata": {},
   "outputs": [
    {
     "data": {
      "text/plain": [
       "0.09753360174945158"
      ]
     },
     "execution_count": 55,
     "metadata": {},
     "output_type": "execute_result"
    }
   ],
   "source": [
    "np.random.seed(19)\n",
    "np.random.random()"
   ]
  },
  {
   "cell_type": "code",
   "execution_count": 62,
   "id": "536b30e6",
   "metadata": {},
   "outputs": [
    {
     "data": {
      "text/plain": [
       "array([0.75015615, 0.28683049, 0.70937606, 0.06478678, 0.68985848])"
      ]
     },
     "execution_count": 62,
     "metadata": {},
     "output_type": "execute_result"
    }
   ],
   "source": [
    "np.random.random(5)"
   ]
  },
  {
   "cell_type": "code",
   "execution_count": 222,
   "id": "b177f57e",
   "metadata": {},
   "outputs": [
    {
     "data": {
      "text/plain": [
       "array([[[0.61184959, 0.91225608, 0.54161063],\n",
       "        [0.37394509, 0.01320063, 0.82931769],\n",
       "        [0.81656153, 0.07972012, 0.1716753 ],\n",
       "        [0.83814903, 0.56416028, 0.34978221]],\n",
       "\n",
       "       [[0.14500296, 0.09851908, 0.56018142],\n",
       "        [0.71006589, 0.95087103, 0.74805133],\n",
       "        [0.37224601, 0.75847731, 0.07107351],\n",
       "        [0.62184537, 0.72071403, 0.04180862]],\n",
       "\n",
       "       [[0.39524182, 0.16133882, 0.27608308],\n",
       "        [0.22650332, 0.30468393, 0.13623338],\n",
       "        [0.69425006, 0.0528662 , 0.5814383 ],\n",
       "        [0.17972813, 0.50669135, 0.28151884]]])"
      ]
     },
     "execution_count": 222,
     "metadata": {},
     "output_type": "execute_result"
    }
   ],
   "source": [
    "np.random.random((3,4,3))"
   ]
  },
  {
   "cell_type": "markdown",
   "id": "1a6a22ed",
   "metadata": {},
   "source": [
    "**`np.random.random_sample`**"
   ]
  },
  {
   "cell_type": "code",
   "execution_count": 210,
   "id": "13ef9c31",
   "metadata": {},
   "outputs": [
    {
     "data": {
      "text/plain": [
       "array([0.44067788, 0.14809125, 0.32003399, 0.03032587, 0.887067  ])"
      ]
     },
     "execution_count": 210,
     "metadata": {},
     "output_type": "execute_result"
    }
   ],
   "source": [
    "np.random.random_sample(5)"
   ]
  },
  {
   "cell_type": "code",
   "execution_count": 216,
   "id": "276987ba",
   "metadata": {},
   "outputs": [
    {
     "data": {
      "text/plain": [
       "array([[[0.77770241, 0.23754122, 0.82427853, 0.9657492 ],\n",
       "        [0.97260111, 0.45344925, 0.60904246, 0.77552651],\n",
       "        [0.64161334, 0.72201823, 0.03503652, 0.29844947]],\n",
       "\n",
       "       [[0.05851249, 0.85706094, 0.37285403, 0.67984795],\n",
       "        [0.25627995, 0.34758122, 0.00941277, 0.35833378],\n",
       "        [0.94909418, 0.21789901, 0.31939137, 0.91777239]]])"
      ]
     },
     "execution_count": 216,
     "metadata": {},
     "output_type": "execute_result"
    }
   ],
   "source": [
    "np.random.seed(13)\n",
    "np.random.random_sample((2,3,4))"
   ]
  },
  {
   "cell_type": "markdown",
   "id": "2b1a0f70",
   "metadata": {},
   "source": [
    "**`np.random.choice`**"
   ]
  },
  {
   "cell_type": "code",
   "execution_count": 63,
   "id": "561b32f7",
   "metadata": {},
   "outputs": [],
   "source": [
    "x = np.array([1,2,3,4,5,6,7,8,9])"
   ]
  },
  {
   "cell_type": "code",
   "execution_count": 110,
   "id": "4d253cfe",
   "metadata": {},
   "outputs": [
    {
     "data": {
      "text/plain": [
       "2"
      ]
     },
     "execution_count": 110,
     "metadata": {},
     "output_type": "execute_result"
    }
   ],
   "source": [
    "np.random.choice(x) # x o'zgaruvchining ichidan bittasini tanlab qaytaradi"
   ]
  },
  {
   "cell_type": "code",
   "execution_count": 108,
   "id": "2f57a0b2",
   "metadata": {},
   "outputs": [
    {
     "data": {
      "text/plain": [
       "4"
      ]
     },
     "execution_count": 108,
     "metadata": {},
     "output_type": "execute_result"
    }
   ],
   "source": [
    "np.random.choice(5) # 5 gacha bo'lgan sonlardan bittasini tanlab qaytaradi"
   ]
  },
  {
   "cell_type": "code",
   "execution_count": 203,
   "id": "73ade8e3",
   "metadata": {},
   "outputs": [
    {
     "data": {
      "text/plain": [
       "array([[3, 6, 1, 4],\n",
       "       [3, 9, 5, 2],\n",
       "       [2, 1, 8, 5]])"
      ]
     },
     "execution_count": 203,
     "metadata": {},
     "output_type": "execute_result"
    }
   ],
   "source": [
    "np.random.choice(x,size=(3,4))"
   ]
  },
  {
   "cell_type": "markdown",
   "id": "b29070d4",
   "metadata": {},
   "source": [
    "**`np.random.shuffle`** - seed shuffle ga tasir qila olmaydi"
   ]
  },
  {
   "cell_type": "code",
   "execution_count": 204,
   "id": "f27edd38",
   "metadata": {},
   "outputs": [],
   "source": [
    "y = np.array([12,2,34,4,5,6,76,8,90])"
   ]
  },
  {
   "cell_type": "code",
   "execution_count": 205,
   "id": "64af9b69",
   "metadata": {},
   "outputs": [],
   "source": [
    "np.random.shuffle(y)"
   ]
  },
  {
   "cell_type": "code",
   "execution_count": 206,
   "id": "1abe1dfd",
   "metadata": {},
   "outputs": [
    {
     "data": {
      "text/plain": [
       "array([ 5,  6, 90, 76, 34,  4,  2, 12,  8])"
      ]
     },
     "execution_count": 206,
     "metadata": {},
     "output_type": "execute_result"
    }
   ],
   "source": [
    "y"
   ]
  }
 ],
 "metadata": {
  "kernelspec": {
   "display_name": "Python 3 (ipykernel)",
   "language": "python",
   "name": "python3"
  },
  "language_info": {
   "codemirror_mode": {
    "name": "ipython",
    "version": 3
   },
   "file_extension": ".py",
   "mimetype": "text/x-python",
   "name": "python",
   "nbconvert_exporter": "python",
   "pygments_lexer": "ipython3",
   "version": "3.9.8"
  }
 },
 "nbformat": 4,
 "nbformat_minor": 5
}
