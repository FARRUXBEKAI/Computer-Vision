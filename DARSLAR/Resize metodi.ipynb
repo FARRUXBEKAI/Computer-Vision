{
 "cells": [
  {
   "cell_type": "markdown",
   "id": "a99e4bee",
   "metadata": {},
   "source": [
    "# 9/09/2022\n",
    "\n",
    "# Computer vision\n",
    "# Resize metodi\n",
    "\n",
    "# Muallif: Farrux Sotivoldiyev"
   ]
  },
  {
   "cell_type": "markdown",
   "id": "4703480e",
   "metadata": {},
   "source": [
    "# Resize \n",
    "* INTER_NEAREST – eng yaqin qo'shni interpolyatsiyasi\n",
    "* INTER_LINEAR – ikki chiziqli interpolyatsiya (sukut bo'yicha ishlatiladi)\n",
    "* INTER_AREA – piksel maydoni munosabati yordamida qayta namuna olish. Bu tasvirni kesish uchun afzal qilingan usul bo'lishi mumkin, chunki u muarsiz natijalar beradi. Ammo rasm kattalashtirilganda, u INTER_NEAREST usuliga o'xshaydi.Rasm kichraytirishda INTER_LINEAR ga o'xshaydi\n",
    "* INTER_CUBIC – 4 × 4 pikselli mahallada bikubik interpolyatsiya\n",
    "* INTER_LANCZOS4 – 8 × 8 pikselli mahallada Lanczos interpolatsiyasi\n",
    "\n",
    "* Kattalashtirish uchun qulay: INTER_LINEAR , INTER_CUBIC\n",
    "* Kichiklashtirish uchun qulay: INTER_AREA"
   ]
  },
  {
   "cell_type": "code",
   "execution_count": 1,
   "id": "7da05e8d",
   "metadata": {},
   "outputs": [],
   "source": [
    "import numpy as np\n",
    "import cv2 \n",
    "import matplotlib.pyplot as plt"
   ]
  },
  {
   "cell_type": "code",
   "execution_count": 2,
   "id": "71f32113",
   "metadata": {},
   "outputs": [
    {
     "name": "stdout",
     "output_type": "stream",
     "text": [
      "[[3 7 5 9 7 9 4 6]\n",
      " [2 9 7 2 2 8 1 1]\n",
      " [4 5 6 5 0 4 3 3]\n",
      " [5 1 9 8 3 2 9 5]\n",
      " [6 0 6 5 3 1 0 5]\n",
      " [4 0 5 5 0 6 0 4]\n",
      " [0 9 9 9 6 2 3 5]\n",
      " [6 9 8 5 0 0 4 4]]\n"
     ]
    },
    {
     "data": {
      "image/png": "[encoded data removed]",
      "text/plain": [
       "<Figure size 432x288 with 1 Axes>"
      ]
     },
     "metadata": {
      "needs_background": "light"
     },
     "output_type": "display_data"
    }
   ],
   "source": [
    "rasm = np.random.randint(0,10,size=(8,8),dtype=np.uint8)\n",
    "print(rasm)\n",
    "plt.imshow(rasm)\n",
    "plt.show()"
   ]
  },
  {
   "cell_type": "markdown",
   "id": "1106e578",
   "metadata": {},
   "source": [
    "### Kichiklashtirish"
   ]
  },
  {
   "cell_type": "markdown",
   "id": "a4849df1",
   "metadata": {},
   "source": [
    "**`INTER_NEAREST - raqamlarni oralatib(yonga va pastga) olib ketadi`**"
   ]
  },
  {
   "cell_type": "code",
   "execution_count": 3,
   "id": "0715ee11",
   "metadata": {},
   "outputs": [
    {
     "name": "stdout",
     "output_type": "stream",
     "text": [
      "[[3 5 7 4]\n",
      " [4 6 0 3]\n",
      " [6 6 3 0]\n",
      " [0 9 6 3]]\n"
     ]
    },
    {
     "data": {
      "image/png": "[encoded data removed]",
      "text/plain": [
       "<Figure size 432x288 with 1 Axes>"
      ]
     },
     "metadata": {
      "needs_background": "light"
     },
     "output_type": "display_data"
    }
   ],
   "source": [
    "inter_nearest = cv2.resize(rasm,(4,4),interpolation=cv2.INTER_NEAREST)\n",
    "print(inter_nearest)\n",
    "plt.imshow(inter_nearest)\n",
    "plt.show()"
   ]
  },
  {
   "cell_type": "markdown",
   "id": "ff1c142c",
   "metadata": {},
   "source": [
    "**`INTER_LINEAR - necha marta qisqaradigan bo'lsa shuncha yonma yon sonlarning o'rtachasini olib ketadi`**"
   ]
  },
  {
   "cell_type": "code",
   "execution_count": 4,
   "id": "036157ed",
   "metadata": {},
   "outputs": [
    {
     "name": "stdout",
     "output_type": "stream",
     "text": [
      "[[5 6 7 3]\n",
      " [4 7 2 5]\n",
      " [3 5 3 2]\n",
      " [6 8 2 4]]\n"
     ]
    },
    {
     "data": {
      "image/png": "[encoded data removed]",
      "text/plain": [
       "<Figure size 432x288 with 1 Axes>"
      ]
     },
     "metadata": {
      "needs_background": "light"
     },
     "output_type": "display_data"
    }
   ],
   "source": [
    "inter_linear = cv2.resize(rasm,(4,4),interpolation=cv2.INTER_LINEAR)\n",
    "print(inter_linear)\n",
    "plt.imshow(inter_linear)\n",
    "plt.show()"
   ]
  },
  {
   "cell_type": "markdown",
   "id": "09edcc17",
   "metadata": {},
   "source": [
    "**`INTER_AREA  - rasmni kichraytirishda INTER_LINEAR ga o'xshaydi`**"
   ]
  },
  {
   "cell_type": "code",
   "execution_count": 5,
   "id": "441f3340",
   "metadata": {},
   "outputs": [
    {
     "name": "stdout",
     "output_type": "stream",
     "text": [
      "[[5 6 7 3]\n",
      " [4 7 2 5]\n",
      " [3 5 3 2]\n",
      " [6 8 2 4]]\n"
     ]
    },
    {
     "data": {
      "image/png": "[encoded data removed]",
      "text/plain": [
       "<Figure size 432x288 with 1 Axes>"
      ]
     },
     "metadata": {
      "needs_background": "light"
     },
     "output_type": "display_data"
    }
   ],
   "source": [
    "inter_area = cv2.resize(rasm,(4,4),interpolation=cv2.INTER_AREA)\n",
    "print(inter_area)\n",
    "plt.imshow(inter_area)\n",
    "plt.show()"
   ]
  },
  {
   "cell_type": "markdown",
   "id": "261dffe8",
   "metadata": {},
   "source": [
    "**`INTER_CUBIC`**"
   ]
  },
  {
   "cell_type": "code",
   "execution_count": 6,
   "id": "7ed59f9a",
   "metadata": {},
   "outputs": [
    {
     "name": "stdout",
     "output_type": "stream",
     "text": [
      "[[6 5 7 2]\n",
      " [3 8 1 6]\n",
      " [2 5 2 1]\n",
      " [6 8 1 4]]\n"
     ]
    },
    {
     "data": {
      "image/png": "[encoded data removed]",
      "text/plain": [
       "<Figure size 432x288 with 1 Axes>"
      ]
     },
     "metadata": {
      "needs_background": "light"
     },
     "output_type": "display_data"
    }
   ],
   "source": [
    "inter_cubic = cv2.resize(rasm,(4,4),interpolation=cv2.INTER_CUBIC)\n",
    "print(inter_cubic)\n",
    "plt.imshow(inter_cubic)\n",
    "plt.show()"
   ]
  },
  {
   "cell_type": "markdown",
   "id": "10896429",
   "metadata": {},
   "source": [
    "### Kattalashtirish"
   ]
  },
  {
   "cell_type": "markdown",
   "id": "71c68e1e",
   "metadata": {},
   "source": [
    "**`INTER_CUBIC`**"
   ]
  },
  {
   "cell_type": "code",
   "execution_count": 7,
   "id": "a19b2e24",
   "metadata": {},
   "outputs": [
    {
     "name": "stdout",
     "output_type": "stream",
     "text": [
      "[[ 3  4  6  7  5  6  9 10  8  8  9  8  5  4  6  7]\n",
      " [ 2  4  7  8  6  6  7  7  6  7  9  8  4  3  4  5]\n",
      " [ 1  4  8  9  8  6  4  3  3  5  8  8  3  1  2  2]\n",
      " [ 2  4  7  9  8  6  3  1  0  2  6  6  3  0  1  1]\n",
      " [ 3  4  6  7  6  6  5  2  0  1  4  5  3  2  2  2]\n",
      " [ 4  4  4  4  6  7  7  5  1  0  2  4  5  5  4  4]\n",
      " [ 5  4  2  3  7  9  9  6  3  1  2  4  8  8  6  4]\n",
      " [ 6  4  1  2  7  9  9  7  5  2  1  3  6  8  6  5]\n",
      " [ 7  4  1  1  5  7  7  5  4  2  1  1  1  3  5  5]\n",
      " [ 6  4  0  0  4  6  5  4  3  2  2  1  0  0  3  5]\n",
      " [ 6  3  0  0  3  5  5  3  0  1  5  4  0  0  3  5]\n",
      " [ 3  2  2  3  5  6  7  5  2  2  5  5  2  1  3  5]\n",
      " [ 0  2  5  8  8  8  9  8  6  4  4  3  2  3  4  5]\n",
      " [ 0  3  8 11 10  9  9  8  6  4  2  1  3  4  5  5]\n",
      " [ 4  6  8 10  9  8  7  5  3  1  0  1  3  4  4  4]\n",
      " [ 6  7  9  9  9  7  6  3  0  0  0  1  3  5  4  4]]\n"
     ]
    },
    {
     "data": {
      "image/png": "[encoded data removed]",
      "text/plain": [
       "<Figure size 432x288 with 1 Axes>"
      ]
     },
     "metadata": {
      "needs_background": "light"
     },
     "output_type": "display_data"
    }
   ],
   "source": [
    "inter_cubic = cv2.resize(rasm,(16,16),interpolation=cv2.INTER_CUBIC)\n",
    "print(inter_cubic)\n",
    "plt.imshow(inter_cubic)\n",
    "plt.show()"
   ]
  },
  {
   "cell_type": "markdown",
   "id": "80ea68ac",
   "metadata": {},
   "source": [
    "### Xulosa:\n",
    "* Kattalashtirish uchun: LINEAR va CUBIC\n",
    "* Kichiklashtiriash uchun: AREA"
   ]
  }
 ],
 "metadata": {
  "kernelspec": {
   "display_name": "Python 3 (ipykernel)",
   "language": "python",
   "name": "python3"
  },
  "language_info": {
   "codemirror_mode": {
    "name": "ipython",
    "version": 3
   },
   "file_extension": ".py",
   "mimetype": "text/x-python",
   "name": "python",
   "nbconvert_exporter": "python",
   "pygments_lexer": "ipython3",
   "version": "3.9.8"
  }
 },
 "nbformat": 4,
 "nbformat_minor": 5
}
