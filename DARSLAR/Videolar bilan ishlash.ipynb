{
 "cells": [
  {
   "cell_type": "markdown",
   "id": "5b53b3b8",
   "metadata": {},
   "source": [
    "# 9/09/2022\n",
    "\n",
    "# Computer vision\n",
    "# Videolar bilan ishlash\n",
    "\n",
    "# Muallif: Farrux Sotivoldiyev"
   ]
  },
  {
   "cell_type": "markdown",
   "id": "04c66fc3",
   "metadata": {},
   "source": [
    "# Videolar bilan ishlash"
   ]
  },
  {
   "cell_type": "code",
   "execution_count": 1,
   "id": "4ddd8227",
   "metadata": {},
   "outputs": [],
   "source": [
    "import numpy as np\n",
    "import cv2\n",
    "import matplotlib.pyplot as plt"
   ]
  },
  {
   "cell_type": "code",
   "execution_count": 3,
   "id": "4b7c0179",
   "metadata": {},
   "outputs": [],
   "source": [
    "video = cv2.VideoCapture(0) # 0 qilganimiz \n",
    "\n",
    "while video.isOpened(): # video ochiqmi degan savolni so'rab turadi\n",
    "    _ , kadr = video.read() # ostki chiziq(_) videoni o'qiy oldimi yoki yo'q,kadr esa rasmlarni bitta bitta o'qib jo'natadi\n",
    "    kadr = cv2.resize(kadr,(640,480))\n",
    "    cv2.imshow(\"Klip\",kadr)\n",
    "    if cv2.waitKey(40) & 0xFF == ord(\"q\"): # video vaqtidan oldin 'q' belgisini bosganimizda videodan chiqib ketadi\n",
    "        break                              # waitkey(40) - o'rtacha video  tezligi\n",
    "video.release()\n",
    "cv2.destroyAllWindows()    "
   ]
  },
  {
   "cell_type": "markdown",
   "id": "4e90411b",
   "metadata": {},
   "source": [
    "### Rasm + Video"
   ]
  },
  {
   "cell_type": "markdown",
   "id": "c758094e",
   "metadata": {},
   "source": [
    "**`Italya videosining chetiga uzimni rasmimni qo'ydim`**"
   ]
  },
  {
   "cell_type": "code",
   "execution_count": 4,
   "id": "a981cbd0",
   "metadata": {},
   "outputs": [],
   "source": [
    "video = cv2.VideoCapture(\"VIDEOLAR/1 MINUTE OF ITALY _ TRAVEL VIDEO.mp4\")\n",
    "rasm = cv2.imread(\"RASMLAR/Farruxbek maska3.jpg\")\n",
    "rasm_copy = np.copy(rasm)\n",
    "range_1 = np.array([44,12,167])\n",
    "range_2 = np.array([44,12,255])\n",
    "maska = cv2.inRange(rasm_copy,range_1,range_2)\n",
    "rasm_copy[maska!=0] = [0,0,0]\n",
    "\n",
    "\n",
    "i = 0\n",
    "while video.isOpened():\n",
    "    _,kadr = video.read()\n",
    "    kadr = cv2.resize(kadr,(640,480))\n",
    "    \n",
    "    kadr[maska==0] = [0,0,0]\n",
    "    kadr = kadr + rasm_copy\n",
    "    \n",
    "    cv2.imshow(\"Klip\",kadr)\n",
    "\n",
    "    if cv2.waitKey(40) & 0xFF==ord(\"q\"):\n",
    "        break\n",
    "        \n",
    "    i+=1  \n",
    "video.release()\n",
    "cv2.destroyAllWindows()"
   ]
  },
  {
   "cell_type": "markdown",
   "id": "d320876f",
   "metadata": {},
   "source": [
    "# Video + Video"
   ]
  },
  {
   "cell_type": "markdown",
   "id": "f57d462a",
   "metadata": {},
   "source": [
    "**`2 ta videoni chachishtirib yangi \"yolbars_ormonda.avi\" nomli yangi video yaratildi`**"
   ]
  },
  {
   "cell_type": "code",
   "execution_count": 5,
   "id": "31d8a260",
   "metadata": {},
   "outputs": [],
   "source": [
    "video1 = cv2.VideoCapture(\"VIDEOLAR/Forest_11minutlik_1.mp4\")\n",
    "video2 = cv2.VideoCapture(\"VIDEOLAR/tiger 11 sekundlik_1.mp4\")\n",
    "\n",
    "output_data = cv2.VideoWriter(\"VIDEOLAR/yolbars_ormonda.avi\",cv2.VideoWriter_fourcc(*\"DIVX\"),30,(1920,1080))\n",
    "\n",
    "rasmlar = []\n",
    "range_1 = np.array([0,100,0])\n",
    "range_2 = np.array([100,250,100])\n",
    "\n",
    "while video1.isOpened() and video2.isOpened():\n",
    "    i,kadr1 = video1.read()\n",
    "    j,kadr2 = video2.read()\n",
    "    if not i or not j:\n",
    "        break\n",
    "    kadr1 = cv2.resize(kadr1,(1920,1080))\n",
    "    kadr2 = cv2.resize(kadr2,(1920,1080))\n",
    "    maska = cv2.inRange(kadr2,range_1,range_2)\n",
    "    kadr1[maska==0] = 0\n",
    "    kadr2[maska!=0] = 0\n",
    "    kadr2 += kadr1\n",
    "#     cv2.imshow(\"O'rmon\",kadr2)\n",
    "    \n",
    "    rasmlar.append(kadr2)\n",
    "#     if cv2.waitKey(40) & 0xFF==ord(\"q\"):\n",
    "#         break\n",
    "\n",
    "for i in rasmlar:\n",
    "    output_data.write(i)\n",
    "    \n",
    "video1.release()  \n",
    "video2.release() \n",
    "output_data.release()\n",
    "cv2.destroyAllWindows()"
   ]
  },
  {
   "cell_type": "markdown",
   "id": "450bc8ae",
   "metadata": {},
   "source": [
    "**`\"yolbars_ormonda.avi\" - videosini o'qish `**"
   ]
  },
  {
   "cell_type": "code",
   "execution_count": 7,
   "id": "ad023ed5",
   "metadata": {},
   "outputs": [],
   "source": [
    "video = cv2.VideoCapture(\"VIDEOLAR/yolbars_ormonda.avi\")\n",
    "\n",
    "while video.isOpened():\n",
    "    i,kadr1 = video.read()\n",
    "\n",
    "    if not i:\n",
    "        break\n",
    "    \n",
    "    cv2.imshow(\"O'rmon\",kadr1)\n",
    "    \n",
    "    if cv2.waitKey(10) & 0xFF==ord(\"q\"):\n",
    "        break\n",
    "video.release()  \n",
    " \n",
    "cv2.destroyAllWindows()"
   ]
  },
  {
   "cell_type": "code",
   "execution_count": null,
   "id": "e6e8e3ab",
   "metadata": {},
   "outputs": [],
   "source": []
  }
 ],
 "metadata": {
  "kernelspec": {
   "display_name": "Python 3 (ipykernel)",
   "language": "python",
   "name": "python3"
  },
  "language_info": {
   "codemirror_mode": {
    "name": "ipython",
    "version": 3
   },
   "file_extension": ".py",
   "mimetype": "text/x-python",
   "name": "python",
   "nbconvert_exporter": "python",
   "pygments_lexer": "ipython3",
   "version": "3.9.8"
  }
 },
 "nbformat": 4,
 "nbformat_minor": 5
}
